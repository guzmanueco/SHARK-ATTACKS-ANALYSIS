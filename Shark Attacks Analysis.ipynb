{
 "cells": [
  {
   "cell_type": "code",
   "execution_count": 58,
   "metadata": {},
   "outputs": [],
   "source": [
    "import pandas as pd"
   ]
  },
  {
   "cell_type": "code",
   "execution_count": 59,
   "metadata": {},
   "outputs": [],
   "source": [
    "df=pd.read_csv(\"GSAF5.csv\", delimiter=',',encoding='iso-8859-1')\n"
   ]
  },
  {
   "cell_type": "code",
   "execution_count": 60,
   "metadata": {},
   "outputs": [
    {
     "name": "stdout",
     "output_type": "stream",
     "text": [
      "Case Number                  0\n",
      "Date                         0\n",
      "Year                         0\n",
      "Type                         0\n",
      "Country                     43\n",
      "Area                       402\n",
      "Location                   496\n",
      "Activity                   527\n",
      "Name                       200\n",
      "Sex                        567\n",
      "Age                       2681\n",
      "Injury                      27\n",
      "Fatal (Y/N)                 19\n",
      "Time                      3213\n",
      "Species                   2934\n",
      "Investigator or Source      15\n",
      "pdf                          0\n",
      "href formula                 1\n",
      "href                         3\n",
      "Case Number.1                0\n",
      "Case Number.2                0\n",
      "original order               0\n",
      "Unnamed: 22               5991\n",
      "Unnamed: 23               5990\n",
      "dtype: int64\n",
      "(5992, 24)\n",
      "Case Number               object\n",
      "Date                      object\n",
      "Year                       int64\n",
      "Type                      object\n",
      "Country                   object\n",
      "Area                      object\n",
      "Location                  object\n",
      "Activity                  object\n",
      "Name                      object\n",
      "Sex                       object\n",
      "Age                       object\n",
      "Injury                    object\n",
      "Fatal (Y/N)               object\n",
      "Time                      object\n",
      "Species                   object\n",
      "Investigator or Source    object\n",
      "pdf                       object\n",
      "href formula              object\n",
      "href                      object\n",
      "Case Number.1             object\n",
      "Case Number.2             object\n",
      "original order             int64\n",
      "Unnamed: 22               object\n",
      "Unnamed: 23               object\n",
      "dtype: object\n"
     ]
    }
   ],
   "source": [
    "# I start the analysis by checking how many columns does the table has and how many of their rows are null\n",
    "nul_col=df.isnull().sum()\n",
    "print(nul_col)\n",
    "print(df.shape)\n",
    "print(df.dtypes)"
   ]
  },
  {
   "cell_type": "code",
   "execution_count": 61,
   "metadata": {},
   "outputs": [
    {
     "name": "stdout",
     "output_type": "stream",
     "text": [
      "True\n"
     ]
    },
    {
     "data": {
      "text/plain": [
       "Index(['Case Number', 'Date', 'Year', 'Type', 'Country', 'Area', 'Location',\n",
       "       'Activity', 'Name', 'Sex ', 'Age', 'Injury', 'Fatal (Y/N)', 'Time',\n",
       "       'Investigator or Source', 'pdf', 'href formula', 'href',\n",
       "       'original order'],\n",
       "      dtype='object')"
      ]
     },
     "execution_count": 61,
     "metadata": {},
     "output_type": "execute_result"
    }
   ],
   "source": [
    "# I noticed there are several columns refering to the Case Number. Let check if all of them are equal\n",
    "\n",
    "if df['Case Number'].all()==df['Case Number.1'].all()==df['Case Number.2'].all():\n",
    "    print(True)\n",
    "\n",
    "#Since the three columns are equal, I drop the replicates. I also drop, the Unnamed columns\n",
    "\n",
    "df=df.drop(['Case Number.1','Case Number.2', 'Unnamed: 22', 'Unnamed: 23', 'Species '], axis=1)\n",
    "df.columns"
   ]
  },
  {
   "cell_type": "code",
   "execution_count": 62,
   "metadata": {},
   "outputs": [],
   "source": [
    "# Finally, there are other columns that are not interesting for my analysis\n",
    "# I want to check how many deaths were caused from 1985 by continent and sex\n",
    "# I can drop the columns not relevant for getting there\n",
    "\n",
    "df=df.drop(['href','href formula','original order', 'Investigator or Source', 'pdf', 'Area', 'Location', 'Activity', 'Time'], axis=1)"
   ]
  },
  {
   "cell_type": "code",
   "execution_count": 63,
   "metadata": {},
   "outputs": [],
   "source": [
    "# Since I want to make an analysis by Conitinent, I drop every row with null value in Country\n",
    "\n",
    "df=df.dropna(how='any',subset=['Country'])"
   ]
  },
  {
   "cell_type": "code",
   "execution_count": 64,
   "metadata": {},
   "outputs": [],
   "source": [
    "# I am only interested on attacks occurred after 1985\n",
    "\n",
    "df=df[df['Year']>1985]"
   ]
  },
  {
   "cell_type": "code",
   "execution_count": 65,
   "metadata": {},
   "outputs": [],
   "source": [
    "# I am only interested on attacks that ended Fatally\n",
    "\n",
    "df=df[df['Fatal (Y/N)']=='Y']"
   ]
  },
  {
   "cell_type": "code",
   "execution_count": 66,
   "metadata": {},
   "outputs": [],
   "source": [
    "# Now that all the attacks remaining in the table were fatal, i dont need the injury\n",
    "# or fatal columns. Neither do I need the following columns\n",
    "\n",
    "df=df.drop(['Type', 'Age', 'Name', 'Injury', 'Fatal (Y/N)'], axis=1)"
   ]
  },
  {
   "cell_type": "code",
   "execution_count": 67,
   "metadata": {},
   "outputs": [
    {
     "data": {
      "text/plain": [
       "(345, 5)"
      ]
     },
     "execution_count": 67,
     "metadata": {},
     "output_type": "execute_result"
    }
   ],
   "source": [
    "df.shape"
   ]
  },
  {
   "cell_type": "code",
   "execution_count": 68,
   "metadata": {},
   "outputs": [],
   "source": [
    "# Just in case there is any row completely empty, we drop them\n",
    "\n",
    "df=df.dropna(how='all')"
   ]
  },
  {
   "cell_type": "code",
   "execution_count": 69,
   "metadata": {},
   "outputs": [
    {
     "data": {
      "text/plain": [
       "Index(['Case Number', 'Date', 'Year', 'Country', 'Sex '], dtype='object')"
      ]
     },
     "execution_count": 69,
     "metadata": {},
     "output_type": "execute_result"
    }
   ],
   "source": [
    "df.columns"
   ]
  },
  {
   "cell_type": "code",
   "execution_count": 70,
   "metadata": {},
   "outputs": [],
   "source": [
    "df=df.drop(['Case Number', 'Date'], axis=1)"
   ]
  },
  {
   "cell_type": "code",
   "execution_count": 71,
   "metadata": {},
   "outputs": [
    {
     "data": {
      "text/html": [
       "<div>\n",
       "<style scoped>\n",
       "    .dataframe tbody tr th:only-of-type {\n",
       "        vertical-align: middle;\n",
       "    }\n",
       "\n",
       "    .dataframe tbody tr th {\n",
       "        vertical-align: top;\n",
       "    }\n",
       "\n",
       "    .dataframe thead th {\n",
       "        text-align: right;\n",
       "    }\n",
       "</style>\n",
       "<table border=\"1\" class=\"dataframe\">\n",
       "  <thead>\n",
       "    <tr style=\"text-align: right;\">\n",
       "      <th></th>\n",
       "      <th>Year</th>\n",
       "      <th>Country</th>\n",
       "      <th>Sex</th>\n",
       "    </tr>\n",
       "  </thead>\n",
       "  <tbody>\n",
       "    <tr>\n",
       "      <th>8</th>\n",
       "      <td>2016</td>\n",
       "      <td>NEW CALEDONIA</td>\n",
       "      <td>M</td>\n",
       "    </tr>\n",
       "    <tr>\n",
       "      <th>52</th>\n",
       "      <td>2016</td>\n",
       "      <td>AUSTRALIA</td>\n",
       "      <td>F</td>\n",
       "    </tr>\n",
       "    <tr>\n",
       "      <th>56</th>\n",
       "      <td>2016</td>\n",
       "      <td>AUSTRALIA</td>\n",
       "      <td>M</td>\n",
       "    </tr>\n",
       "    <tr>\n",
       "      <th>72</th>\n",
       "      <td>2016</td>\n",
       "      <td>NEW CALEDONIA</td>\n",
       "      <td>F</td>\n",
       "    </tr>\n",
       "    <tr>\n",
       "      <th>83</th>\n",
       "      <td>2016</td>\n",
       "      <td>Fiji</td>\n",
       "      <td>M</td>\n",
       "    </tr>\n",
       "    <tr>\n",
       "      <th>...</th>\n",
       "      <td>...</td>\n",
       "      <td>...</td>\n",
       "      <td>...</td>\n",
       "    </tr>\n",
       "    <tr>\n",
       "      <th>2563</th>\n",
       "      <td>1987</td>\n",
       "      <td>SOLOMON ISLANDS</td>\n",
       "      <td>NaN</td>\n",
       "    </tr>\n",
       "    <tr>\n",
       "      <th>2566</th>\n",
       "      <td>1987</td>\n",
       "      <td>MONTENEGRO</td>\n",
       "      <td>M</td>\n",
       "    </tr>\n",
       "    <tr>\n",
       "      <th>2569</th>\n",
       "      <td>1986</td>\n",
       "      <td>SOUTH AFRICA</td>\n",
       "      <td>M</td>\n",
       "    </tr>\n",
       "    <tr>\n",
       "      <th>2594</th>\n",
       "      <td>1986</td>\n",
       "      <td>SOUTH KOREA</td>\n",
       "      <td>M</td>\n",
       "    </tr>\n",
       "    <tr>\n",
       "      <th>2595</th>\n",
       "      <td>1986</td>\n",
       "      <td>USA</td>\n",
       "      <td>M</td>\n",
       "    </tr>\n",
       "  </tbody>\n",
       "</table>\n",
       "<p>345 rows × 3 columns</p>\n",
       "</div>"
      ],
      "text/plain": [
       "      Year          Country Sex \n",
       "8     2016    NEW CALEDONIA    M\n",
       "52    2016        AUSTRALIA    F\n",
       "56    2016        AUSTRALIA    M\n",
       "72    2016    NEW CALEDONIA    F\n",
       "83    2016             Fiji    M\n",
       "...    ...              ...  ...\n",
       "2563  1987  SOLOMON ISLANDS  NaN\n",
       "2566  1987       MONTENEGRO    M\n",
       "2569  1986     SOUTH AFRICA    M\n",
       "2594  1986      SOUTH KOREA    M\n",
       "2595  1986              USA    M\n",
       "\n",
       "[345 rows x 3 columns]"
      ]
     },
     "execution_count": 71,
     "metadata": {},
     "output_type": "execute_result"
    }
   ],
   "source": [
    "df"
   ]
  },
  {
   "cell_type": "code",
   "execution_count": 72,
   "metadata": {},
   "outputs": [
    {
     "name": "stdout",
     "output_type": "stream",
     "text": [
      "{'TONGA', 'SOMALIA', 'BELIZE', 'BAHAMAS', 'MONTENEGRO', 'CHILE', 'PHILIPPINES', 'NEVIS', 'JAMAICA', 'MALAYSIA', 'DOMINICAN REPUBLIC', 'TRINIDAD & TOBAGO', 'ITALY', 'SOLOMON ISLANDS', 'EL SALVADOR', 'SOUTH AFRICA', 'HONG KONG', 'FIJI', 'Seychelles', 'Sierra Leone', 'JAPAN', 'NEW ZEALAND', 'PAPUA NEW GUINEA', 'AUSTRALIA', 'KENYA', 'LIBERIA', 'MAURITIUS', 'TAIWAN', 'EGYPT', 'TANZANIA', 'YEMEN', 'DIEGO GARCIA', 'NEW CALEDONIA', 'VANUATU', ' TONGA', 'OKINAWA', 'ARUBA', 'COSTA RICA', 'MOZAMBIQUE', 'TURKS & CAICOS', 'BRAZIL', 'GULF OF ADEN', 'SOUTH KOREA', 'SEYCHELLES', 'Fiji', 'REUNION', 'MADAGASCAR', 'CARIBBEAN SEA', 'INDONESIA', 'BRITISH VIRGIN ISLANDS', 'MEXICO', 'GUAM', 'USA', 'THAILAND'}\n"
     ]
    }
   ],
   "source": [
    "# Now I have to check countries to solve problems in order to later create a continents column\n",
    "print(set(df['Country']))\n",
    "\n",
    "# Some of the inputs are not even countries, some of them are repeated due to different writtings. I clean those rows\n",
    "# with no country, and rename the Countries to solve the differences"
   ]
  },
  {
   "cell_type": "code",
   "execution_count": 73,
   "metadata": {},
   "outputs": [],
   "source": [
    "# I split countries by continents by lists\n",
    "\n",
    "country=['MOZAMBIQUE', 'DOMINICAN REPUBLIC', 'YEMEN', 'SOUTH KOREA', 'EL SALVADOR', 'REUNION', 'FIJI', 'CHILE', 'NEW ZEALAND', 'TURKS & CAICOS', 'AUSTRALIA', 'TRINIDAD & TOBAGO', 'OKINAWA', 'GULF OF ADEN', 'NEW CALEDONIA', 'JAPAN', 'DIEGO GARCIA', 'NEVIS', 'SEYCHELLES', ' TONGA', 'SOMALIA', 'Seychelles', 'CARIBBEAN SEA', 'JAMAICA', 'GUAM', 'PHILIPPINES', 'HONG KONG', 'MONTENEGRO', 'PAPUA NEW GUINEA', 'BELIZE', 'THAILAND', 'LIBERIA', 'ITALY', 'MEXICO', 'TANZANIA', 'KENYA', 'Fiji', 'USA', 'TONGA', 'SOLOMON ISLANDS', 'VANUATU', 'SOUTH AFRICA', 'BRITISH VIRGIN ISLANDS', 'INDONESIA', 'BRAZIL', 'BAHAMAS', 'EGYPT', 'MAURITIUS', 'ARUBA', 'MALAYSIA', 'Sierra Leone', 'MADAGASCAR', 'TAIWAN', 'COSTA RICA']\n",
    "\n",
    "europe=['MONTENEGRO', 'ITALY']\n",
    "\n",
    "country=[e for e in country if e not in europe]\n",
    "\n",
    "\n",
    "africa=['MOZAMBIQUE', 'YEMEN', 'TRINIDAD & TOBAGO', 'GULF OF ADEN',  ' TONGA', 'SOMALIA',  'PAPUA NEW GUINEA',  'LIBERIA', 'TANZANIA', 'KENYA', 'VANUATU', 'SOUTH AFRICA', 'EGYPT', 'MAURITIUS', 'Sierra Leone', 'MADAGASCAR']\n",
    "\n",
    "country=[e for e in country if e not in africa]\n",
    "\n",
    "america=['DOMINICAN REPUBLIC', 'EL SALVADOR', 'REUNION', 'CHILE',  'TURKS & CAICOS', 'CARIBBEAN SEA', 'JAMAICA', 'BELIZE', 'MEXICO',  'USA', 'BRAZIL','COSTA RICA']\n",
    "\n",
    "country=[e for e in country if e not in america]\n",
    "\n",
    "asia=['MALAYSIA', 'NEW CALEDONIA', 'SOUTH KOREA', 'FIJI', 'OKINAWA', 'NEW CALEDONIA', 'JAPAN', 'NEVIS', 'SEYCHELLES', 'Seychelles', 'GUAM', 'PHILIPPINES', 'HONG KONG', 'THAILAND', 'Fiji', 'TONGA', 'SOLOMON ISLANDS', 'BRITISH VIRGIN ISLANDS', 'INDONESIA', 'BAHAMAS', 'ARUBA', 'MALAYSIA', 'TAIWAN']\n",
    "\n",
    "oceany=['NEW ZEALAND', 'AUSTRALIA']"
   ]
  },
  {
   "cell_type": "code",
   "execution_count": 74,
   "metadata": {},
   "outputs": [],
   "source": [
    "# I create a new empty column Continent\n",
    "\n",
    "import numpy as np\n",
    "\n",
    "df['Continent']=np.nan"
   ]
  },
  {
   "cell_type": "code",
   "execution_count": 75,
   "metadata": {},
   "outputs": [],
   "source": [
    "# I fill continent with the continent depending on wich country the row has\n",
    "\n",
    "df.loc[df['Country'].isin(europe), 'Continent']='Europe'\n",
    "\n",
    "df.loc[df['Country'].isin(america), 'Continent']='America'\n",
    "\n",
    "df.loc[df['Country'].isin(asia), 'Continent']='Asia'\n",
    "\n",
    "df.loc[df['Country'].isin(africa), 'Continent']='Africa'\n",
    "\n",
    "df.loc[df['Country'].isin(oceany), 'Continent']='Oceany'"
   ]
  },
  {
   "cell_type": "code",
   "execution_count": 76,
   "metadata": {},
   "outputs": [
    {
     "data": {
      "text/plain": [
       "Year          0\n",
       "Country       0\n",
       "Sex          31\n",
       "Continent     1\n",
       "dtype: int64"
      ]
     },
     "execution_count": 76,
     "metadata": {},
     "output_type": "execute_result"
    }
   ],
   "source": [
    "df.isnull().sum()"
   ]
  },
  {
   "cell_type": "code",
   "execution_count": 77,
   "metadata": {},
   "outputs": [
    {
     "name": "stdout",
     "output_type": "stream",
     "text": [
      "['SOUTH KOREA', 'FIJI', 'NEW ZEALAND', 'AUSTRALIA', 'OKINAWA', 'NEW CALEDONIA', 'JAPAN', 'DIEGO GARCIA', 'NEVIS', 'SEYCHELLES', 'Seychelles', 'GUAM', 'PHILIPPINES', 'HONG KONG', 'THAILAND', 'Fiji', 'TONGA', 'SOLOMON ISLANDS', 'BRITISH VIRGIN ISLANDS', 'INDONESIA', 'BAHAMAS', 'ARUBA', 'MALAYSIA', 'TAIWAN']\n"
     ]
    }
   ],
   "source": [
    "# Apparently there was one country missed\n",
    "\n",
    "print(country)\n",
    "\n",
    "# We find Diego García, which obviously is not a country"
   ]
  },
  {
   "cell_type": "code",
   "execution_count": 78,
   "metadata": {},
   "outputs": [],
   "source": [
    "# I drop DIEGO GARCIA\n",
    "\n",
    "df=df[df['Country']!='DIEGO GARCIA']"
   ]
  },
  {
   "cell_type": "code",
   "execution_count": 79,
   "metadata": {},
   "outputs": [
    {
     "data": {
      "text/plain": [
       "Year          0\n",
       "Country       0\n",
       "Sex          31\n",
       "Continent     0\n",
       "dtype: int64"
      ]
     },
     "execution_count": 79,
     "metadata": {},
     "output_type": "execute_result"
    }
   ],
   "source": [
    "df.isnull().sum()"
   ]
  },
  {
   "cell_type": "code",
   "execution_count": 80,
   "metadata": {},
   "outputs": [],
   "source": [
    "# Since I want my final analysis to split the deaths by sex, i drop every row with null sex\n",
    "\n",
    "df=df.dropna(how='any',subset=['Sex '])"
   ]
  },
  {
   "cell_type": "code",
   "execution_count": 81,
   "metadata": {},
   "outputs": [
    {
     "data": {
      "text/plain": [
       "(313, 4)"
      ]
     },
     "execution_count": 81,
     "metadata": {},
     "output_type": "execute_result"
    }
   ],
   "source": [
    "df.shape"
   ]
  },
  {
   "cell_type": "code",
   "execution_count": 82,
   "metadata": {},
   "outputs": [],
   "source": [
    "df2=df"
   ]
  },
  {
   "cell_type": "code",
   "execution_count": 83,
   "metadata": {},
   "outputs": [],
   "source": [
    "# I want a new data frame to display the deaths by continent and sex, so I add two columns, male and female\n",
    "\n",
    "df2['Male']=np.nan\n",
    "df2['Female']=np.nan\n",
    "\n",
    "male=['M']\n",
    "female=['F']\n",
    "df.loc[df['Sex '].isin(list(male)), 'Male']='M'\n",
    "df.loc[df['Sex '].isin(list(female)), 'Female']='F'"
   ]
  },
  {
   "cell_type": "code",
   "execution_count": 84,
   "metadata": {},
   "outputs": [],
   "source": [
    "# I group by continent and aggregate the count of country, male and female\n",
    "\n",
    "df2=df.groupby(['Continent'],axis=0).agg({'Country':'count','Male':'count', 'Female':'count'})"
   ]
  },
  {
   "cell_type": "code",
   "execution_count": 85,
   "metadata": {},
   "outputs": [
    {
     "data": {
      "text/html": [
       "<div>\n",
       "<style scoped>\n",
       "    .dataframe tbody tr th:only-of-type {\n",
       "        vertical-align: middle;\n",
       "    }\n",
       "\n",
       "    .dataframe tbody tr th {\n",
       "        vertical-align: top;\n",
       "    }\n",
       "\n",
       "    .dataframe thead th {\n",
       "        text-align: right;\n",
       "    }\n",
       "</style>\n",
       "<table border=\"1\" class=\"dataframe\">\n",
       "  <thead>\n",
       "    <tr style=\"text-align: right;\">\n",
       "      <th></th>\n",
       "      <th>Country</th>\n",
       "      <th>Male</th>\n",
       "      <th>Female</th>\n",
       "    </tr>\n",
       "    <tr>\n",
       "      <th>Continent</th>\n",
       "      <th></th>\n",
       "      <th></th>\n",
       "      <th></th>\n",
       "    </tr>\n",
       "  </thead>\n",
       "  <tbody>\n",
       "    <tr>\n",
       "      <th>Africa</th>\n",
       "      <td>63</td>\n",
       "      <td>54</td>\n",
       "      <td>9</td>\n",
       "    </tr>\n",
       "    <tr>\n",
       "      <th>America</th>\n",
       "      <td>122</td>\n",
       "      <td>108</td>\n",
       "      <td>14</td>\n",
       "    </tr>\n",
       "    <tr>\n",
       "      <th>Asia</th>\n",
       "      <td>57</td>\n",
       "      <td>48</td>\n",
       "      <td>9</td>\n",
       "    </tr>\n",
       "    <tr>\n",
       "      <th>Europe</th>\n",
       "      <td>4</td>\n",
       "      <td>4</td>\n",
       "      <td>0</td>\n",
       "    </tr>\n",
       "    <tr>\n",
       "      <th>Oceany</th>\n",
       "      <td>67</td>\n",
       "      <td>60</td>\n",
       "      <td>7</td>\n",
       "    </tr>\n",
       "  </tbody>\n",
       "</table>\n",
       "</div>"
      ],
      "text/plain": [
       "           Country  Male  Female\n",
       "Continent                       \n",
       "Africa          63    54       9\n",
       "America        122   108      14\n",
       "Asia            57    48       9\n",
       "Europe           4     4       0\n",
       "Oceany          67    60       7"
      ]
     },
     "metadata": {},
     "output_type": "display_data"
    }
   ],
   "source": [
    "display(df2)"
   ]
  },
  {
   "cell_type": "code",
   "execution_count": 86,
   "metadata": {},
   "outputs": [
    {
     "data": {
      "application/vnd.plotly.v1+json": {
       "config": {
        "plotlyServerURL": "https://plot.ly"
       },
       "data": [
        {
         "alignmentgroup": "True",
         "hoverlabel": {
          "namelength": 0
         },
         "hovertemplate": "Sex =M<br>Continent=%{x}<br>Country=%{y}",
         "legendgroup": "Sex =M",
         "marker": {
          "color": "#636efa"
         },
         "name": "Sex =M",
         "offsetgroup": "Sex =M",
         "orientation": "v",
         "showlegend": true,
         "textposition": "auto",
         "type": "bar",
         "x": [
          "Asia",
          "Oceany",
          "Asia",
          "Asia",
          "Oceany",
          "Asia",
          "America",
          "Europe",
          "Africa",
          "Oceany",
          "Oceany",
          "Oceany",
          "Africa",
          "Oceany",
          "Asia",
          "Oceany",
          "Africa",
          "Oceany",
          "America",
          "Oceany",
          "Oceany",
          "Africa",
          "America",
          "America",
          "America",
          "America",
          "Asia",
          "Oceany",
          "America",
          "Oceany",
          "Africa",
          "America",
          "America",
          "America",
          "America",
          "Africa",
          "Oceany",
          "Africa",
          "Oceany",
          "Africa",
          "Oceany",
          "Oceany",
          "America",
          "Africa",
          "Oceany",
          "Oceany",
          "Africa",
          "Asia",
          "Asia",
          "America",
          "America",
          "America",
          "Asia",
          "Africa",
          "Oceany",
          "Africa",
          "Oceany",
          "America",
          "America",
          "Africa",
          "Asia",
          "Oceany",
          "Asia",
          "Asia",
          "America",
          "Africa",
          "Africa",
          "Oceany",
          "America",
          "America",
          "America",
          "Asia",
          "Africa",
          "Africa",
          "Africa",
          "Africa",
          "Asia",
          "America",
          "America",
          "Africa",
          "America",
          "Oceany",
          "Africa",
          "Asia",
          "Asia",
          "America",
          "America",
          "America",
          "Asia",
          "America",
          "America",
          "America",
          "Oceany",
          "Asia",
          "Asia",
          "Asia",
          "Oceany",
          "America",
          "Oceany",
          "Africa",
          "Oceany",
          "America",
          "America",
          "America",
          "Europe",
          "America",
          "America",
          "America",
          "America",
          "Africa",
          "Africa",
          "America",
          "America",
          "Asia",
          "Oceany",
          "Asia",
          "Africa",
          "Africa",
          "Oceany",
          "Oceany",
          "Oceany",
          "America",
          "Oceany",
          "Africa",
          "America",
          "Africa",
          "Africa",
          "America",
          "America",
          "Africa",
          "Oceany",
          "Africa",
          "America",
          "Asia",
          "Africa",
          "America",
          "Oceany",
          "Africa",
          "Oceany",
          "America",
          "America",
          "America",
          "Oceany",
          "Oceany",
          "America",
          "Asia",
          "America",
          "Asia",
          "America",
          "America",
          "America",
          "Oceany",
          "Africa",
          "Asia",
          "America",
          "Asia",
          "Oceany",
          "Oceany",
          "Oceany",
          "Oceany",
          "Asia",
          "Africa",
          "America",
          "America",
          "Africa",
          "Africa",
          "Africa",
          "Asia",
          "America",
          "Asia",
          "America",
          "Africa",
          "Oceany",
          "America",
          "America",
          "America",
          "Oceany",
          "Africa",
          "America",
          "Oceany",
          "America",
          "Africa",
          "Africa",
          "Oceany",
          "America",
          "America",
          "America",
          "Africa",
          "Africa",
          "Asia",
          "Oceany",
          "America",
          "Asia",
          "Asia",
          "Asia",
          "Oceany",
          "Asia",
          "America",
          "Africa",
          "America",
          "Asia",
          "America",
          "America",
          "Oceany",
          "America",
          "America",
          "Asia",
          "Asia",
          "Asia",
          "Africa",
          "America",
          "America",
          "America",
          "America",
          "America",
          "America",
          "Africa",
          "Africa",
          "America",
          "America",
          "Oceany",
          "Africa",
          "Africa",
          "America",
          "Asia",
          "America",
          "Asia",
          "Oceany",
          "Asia",
          "America",
          "Oceany",
          "America",
          "America",
          "America",
          "America",
          "America",
          "America",
          "America",
          "Asia",
          "America",
          "Asia",
          "America",
          "Asia",
          "Oceany",
          "Asia",
          "Asia",
          "America",
          "Oceany",
          "America",
          "Oceany",
          "Africa",
          "America",
          "America",
          "America",
          "America",
          "Oceany",
          "Europe",
          "America",
          "America",
          "America",
          "Oceany",
          "Oceany",
          "America",
          "America",
          "America",
          "Oceany",
          "Oceany",
          "Africa",
          "America",
          "Africa",
          "Europe",
          "Africa",
          "Asia",
          "America"
         ],
         "xaxis": "x",
         "y": [
          "NEW CALEDONIA",
          "AUSTRALIA",
          "Fiji",
          "ARUBA",
          "AUSTRALIA",
          "NEW CALEDONIA",
          "REUNION",
          "ITALY",
          "EGYPT",
          "AUSTRALIA",
          "AUSTRALIA",
          "AUSTRALIA",
          "MAURITIUS",
          "AUSTRALIA",
          "BAHAMAS",
          "AUSTRALIA",
          "SOUTH AFRICA",
          "AUSTRALIA",
          "USA",
          "AUSTRALIA",
          "AUSTRALIA",
          "SOUTH AFRICA",
          "JAMAICA",
          "BRAZIL",
          "USA",
          "REUNION",
          "GUAM",
          "AUSTRALIA",
          "JAMAICA",
          "NEW ZEALAND",
          "SOUTH AFRICA",
          "MEXICO",
          "USA",
          "BRAZIL",
          "REUNION",
          "TRINIDAD & TOBAGO",
          "AUSTRALIA",
          "SOUTH AFRICA",
          "AUSTRALIA",
          "SOUTH AFRICA",
          "AUSTRALIA",
          "AUSTRALIA",
          "REUNION",
          "KENYA",
          "AUSTRALIA",
          "AUSTRALIA",
          "SOUTH AFRICA",
          "SEYCHELLES",
          "SEYCHELLES",
          "BRAZIL",
          "COSTA RICA",
          "REUNION",
          "NEW CALEDONIA",
          "SOUTH AFRICA",
          "AUSTRALIA",
          "SOUTH AFRICA",
          "AUSTRALIA",
          "DOMINICAN REPUBLIC",
          "USA",
          "SOUTH AFRICA",
          "BAHAMAS",
          "AUSTRALIA",
          "FIJI",
          "GUAM",
          "USA",
          "SOUTH AFRICA",
          "SOUTH AFRICA",
          "NEW ZEALAND",
          "BRAZIL",
          "USA",
          "BRAZIL",
          "NEVIS",
          "SOUTH AFRICA",
          "KENYA",
          "SOUTH AFRICA",
          "SOUTH AFRICA",
          "NEW CALEDONIA",
          "USA",
          "BRAZIL",
          "SOUTH AFRICA",
          "BRAZIL",
          "AUSTRALIA",
          "MOZAMBIQUE",
          "TAIWAN",
          "PHILIPPINES",
          "USA",
          "USA",
          "MEXICO",
          "FIJI",
          "MEXICO",
          "USA",
          "MEXICO",
          "AUSTRALIA",
          "BAHAMAS",
          "BRITISH VIRGIN ISLANDS",
          "PHILIPPINES",
          "AUSTRALIA",
          "COSTA RICA",
          "AUSTRALIA",
          "SOUTH AFRICA",
          "AUSTRALIA",
          "BRAZIL",
          "BRAZIL",
          "BELIZE",
          "ITALY",
          "REUNION",
          "BRAZIL",
          "BRAZIL",
          "USA",
          "Sierra Leone",
          "SOUTH AFRICA",
          "USA",
          "USA",
          "THAILAND",
          "AUSTRALIA",
          "Seychelles",
          "LIBERIA",
          "SOUTH AFRICA",
          "AUSTRALIA",
          "AUSTRALIA",
          "AUSTRALIA",
          "USA",
          "AUSTRALIA",
          "SOUTH AFRICA",
          "BRAZIL",
          " TONGA",
          " TONGA",
          "USA",
          "BRAZIL",
          "EGYPT",
          "NEW ZEALAND",
          "SOUTH AFRICA",
          "USA",
          "FIJI",
          "SOUTH AFRICA",
          "BRAZIL",
          "AUSTRALIA",
          "SOUTH AFRICA",
          "AUSTRALIA",
          "BRAZIL",
          "BRAZIL",
          "USA",
          "AUSTRALIA",
          "AUSTRALIA",
          "BRAZIL",
          "NEW CALEDONIA",
          "TURKS & CAICOS",
          "FIJI",
          "USA",
          "USA",
          "USA",
          "AUSTRALIA",
          "MADAGASCAR",
          "FIJI",
          "BRAZIL",
          "FIJI",
          "AUSTRALIA",
          "AUSTRALIA",
          "AUSTRALIA",
          "AUSTRALIA",
          "OKINAWA",
          "TANZANIA",
          "USA",
          "USA",
          "PAPUA NEW GUINEA",
          "TANZANIA",
          "PAPUA NEW GUINEA",
          "NEW CALEDONIA",
          "REUNION",
          "THAILAND",
          "USA",
          "SOUTH AFRICA",
          "AUSTRALIA",
          "REUNION",
          "USA",
          "BRAZIL",
          "AUSTRALIA",
          "SOUTH AFRICA",
          "BRAZIL",
          "AUSTRALIA",
          "REUNION",
          "SOUTH AFRICA",
          "SOUTH AFRICA",
          "AUSTRALIA",
          "BRAZIL",
          "MEXICO",
          "MEXICO",
          "EGYPT",
          "SOUTH AFRICA",
          "OKINAWA",
          "AUSTRALIA",
          "REUNION",
          "NEW CALEDONIA",
          "OKINAWA",
          "OKINAWA",
          "AUSTRALIA",
          "SOUTH KOREA",
          "BRAZIL",
          "PAPUA NEW GUINEA",
          "REUNION",
          "FIJI",
          "REUNION",
          "USA",
          "AUSTRALIA",
          "USA",
          "BRAZIL",
          "HONG KONG",
          "FIJI",
          "JAPAN",
          "SOUTH AFRICA",
          "USA",
          "USA",
          "BRAZIL",
          "USA",
          "BRAZIL",
          "REUNION",
          "SOUTH AFRICA",
          "SOUTH AFRICA",
          "USA",
          "USA",
          "AUSTRALIA",
          "SOMALIA",
          "SOMALIA",
          "EL SALVADOR",
          "NEW CALEDONIA",
          "BRAZIL",
          "HONG KONG",
          "AUSTRALIA",
          "HONG KONG",
          "USA",
          "AUSTRALIA",
          "BRAZIL",
          "USA",
          "USA",
          "BRAZIL",
          "REUNION",
          "USA",
          "REUNION",
          "JAPAN",
          "USA",
          "FIJI",
          "USA",
          "BAHAMAS",
          "AUSTRALIA",
          "HONG KONG",
          "HONG KONG",
          "USA",
          "AUSTRALIA",
          "USA",
          "AUSTRALIA",
          "SOUTH AFRICA",
          "USA",
          "USA",
          "USA",
          "REUNION",
          "AUSTRALIA",
          "ITALY",
          "USA",
          "USA",
          "CHILE",
          "AUSTRALIA",
          "AUSTRALIA",
          "USA",
          "REUNION",
          "USA",
          "AUSTRALIA",
          "AUSTRALIA",
          "SOUTH AFRICA",
          "USA",
          "VANUATU",
          "MONTENEGRO",
          "SOUTH AFRICA",
          "SOUTH KOREA",
          "USA"
         ],
         "yaxis": "y"
        },
        {
         "alignmentgroup": "True",
         "hoverlabel": {
          "namelength": 0
         },
         "hovertemplate": "Sex =F<br>Continent=%{x}<br>Country=%{y}",
         "legendgroup": "Sex =F",
         "marker": {
          "color": "#EF553B"
         },
         "name": "Sex =F",
         "offsetgroup": "Sex =F",
         "orientation": "v",
         "showlegend": true,
         "textposition": "auto",
         "type": "bar",
         "x": [
          "Oceany",
          "Asia",
          "Africa",
          "America",
          "America",
          "Oceany",
          "America",
          "America",
          "America",
          "Oceany",
          "Africa",
          "Africa",
          "Asia",
          "America",
          "Asia",
          "Oceany",
          "America",
          "Africa",
          "Africa",
          "America",
          "America",
          "Asia",
          "Oceany",
          "America",
          "Africa",
          "Asia",
          "Asia",
          "America",
          "America",
          "Oceany",
          "Asia",
          "Africa",
          "America",
          "Asia",
          "Africa",
          "America",
          "Asia",
          "Africa",
          "Oceany"
         ],
         "xaxis": "x",
         "y": [
          "AUSTRALIA",
          "NEW CALEDONIA",
          "MOZAMBIQUE",
          "USA",
          "REUNION",
          "AUSTRALIA",
          "USA",
          "BRAZIL",
          "REUNION",
          "AUSTRALIA",
          "EGYPT",
          "EGYPT",
          "NEW CALEDONIA",
          "USA",
          "TONGA",
          "AUSTRALIA",
          "USA",
          "VANUATU",
          "SOUTH AFRICA",
          "USA",
          "USA",
          "MALAYSIA",
          "NEW ZEALAND",
          "USA",
          "MOZAMBIQUE",
          "HONG KONG",
          "SOUTH KOREA",
          "USA",
          "MEXICO",
          "AUSTRALIA",
          "HONG KONG",
          "SOMALIA",
          "USA",
          "HONG KONG",
          "SOUTH AFRICA",
          "USA",
          "SOUTH KOREA",
          "SOUTH AFRICA",
          "AUSTRALIA"
         ],
         "yaxis": "y"
        }
       ],
       "layout": {
        "barmode": "relative",
        "height": 600,
        "legend": {
         "tracegroupgap": 0
        },
        "margin": {
         "t": 60
        },
        "template": {
         "data": {
          "bar": [
           {
            "error_x": {
             "color": "#2a3f5f"
            },
            "error_y": {
             "color": "#2a3f5f"
            },
            "marker": {
             "line": {
              "color": "#E5ECF6",
              "width": 0.5
             }
            },
            "type": "bar"
           }
          ],
          "barpolar": [
           {
            "marker": {
             "line": {
              "color": "#E5ECF6",
              "width": 0.5
             }
            },
            "type": "barpolar"
           }
          ],
          "carpet": [
           {
            "aaxis": {
             "endlinecolor": "#2a3f5f",
             "gridcolor": "white",
             "linecolor": "white",
             "minorgridcolor": "white",
             "startlinecolor": "#2a3f5f"
            },
            "baxis": {
             "endlinecolor": "#2a3f5f",
             "gridcolor": "white",
             "linecolor": "white",
             "minorgridcolor": "white",
             "startlinecolor": "#2a3f5f"
            },
            "type": "carpet"
           }
          ],
          "choropleth": [
           {
            "colorbar": {
             "outlinewidth": 0,
             "ticks": ""
            },
            "type": "choropleth"
           }
          ],
          "contour": [
           {
            "colorbar": {
             "outlinewidth": 0,
             "ticks": ""
            },
            "colorscale": [
             [
              0,
              "#0d0887"
             ],
             [
              0.1111111111111111,
              "#46039f"
             ],
             [
              0.2222222222222222,
              "#7201a8"
             ],
             [
              0.3333333333333333,
              "#9c179e"
             ],
             [
              0.4444444444444444,
              "#bd3786"
             ],
             [
              0.5555555555555556,
              "#d8576b"
             ],
             [
              0.6666666666666666,
              "#ed7953"
             ],
             [
              0.7777777777777778,
              "#fb9f3a"
             ],
             [
              0.8888888888888888,
              "#fdca26"
             ],
             [
              1,
              "#f0f921"
             ]
            ],
            "type": "contour"
           }
          ],
          "contourcarpet": [
           {
            "colorbar": {
             "outlinewidth": 0,
             "ticks": ""
            },
            "type": "contourcarpet"
           }
          ],
          "heatmap": [
           {
            "colorbar": {
             "outlinewidth": 0,
             "ticks": ""
            },
            "colorscale": [
             [
              0,
              "#0d0887"
             ],
             [
              0.1111111111111111,
              "#46039f"
             ],
             [
              0.2222222222222222,
              "#7201a8"
             ],
             [
              0.3333333333333333,
              "#9c179e"
             ],
             [
              0.4444444444444444,
              "#bd3786"
             ],
             [
              0.5555555555555556,
              "#d8576b"
             ],
             [
              0.6666666666666666,
              "#ed7953"
             ],
             [
              0.7777777777777778,
              "#fb9f3a"
             ],
             [
              0.8888888888888888,
              "#fdca26"
             ],
             [
              1,
              "#f0f921"
             ]
            ],
            "type": "heatmap"
           }
          ],
          "heatmapgl": [
           {
            "colorbar": {
             "outlinewidth": 0,
             "ticks": ""
            },
            "colorscale": [
             [
              0,
              "#0d0887"
             ],
             [
              0.1111111111111111,
              "#46039f"
             ],
             [
              0.2222222222222222,
              "#7201a8"
             ],
             [
              0.3333333333333333,
              "#9c179e"
             ],
             [
              0.4444444444444444,
              "#bd3786"
             ],
             [
              0.5555555555555556,
              "#d8576b"
             ],
             [
              0.6666666666666666,
              "#ed7953"
             ],
             [
              0.7777777777777778,
              "#fb9f3a"
             ],
             [
              0.8888888888888888,
              "#fdca26"
             ],
             [
              1,
              "#f0f921"
             ]
            ],
            "type": "heatmapgl"
           }
          ],
          "histogram": [
           {
            "marker": {
             "colorbar": {
              "outlinewidth": 0,
              "ticks": ""
             }
            },
            "type": "histogram"
           }
          ],
          "histogram2d": [
           {
            "colorbar": {
             "outlinewidth": 0,
             "ticks": ""
            },
            "colorscale": [
             [
              0,
              "#0d0887"
             ],
             [
              0.1111111111111111,
              "#46039f"
             ],
             [
              0.2222222222222222,
              "#7201a8"
             ],
             [
              0.3333333333333333,
              "#9c179e"
             ],
             [
              0.4444444444444444,
              "#bd3786"
             ],
             [
              0.5555555555555556,
              "#d8576b"
             ],
             [
              0.6666666666666666,
              "#ed7953"
             ],
             [
              0.7777777777777778,
              "#fb9f3a"
             ],
             [
              0.8888888888888888,
              "#fdca26"
             ],
             [
              1,
              "#f0f921"
             ]
            ],
            "type": "histogram2d"
           }
          ],
          "histogram2dcontour": [
           {
            "colorbar": {
             "outlinewidth": 0,
             "ticks": ""
            },
            "colorscale": [
             [
              0,
              "#0d0887"
             ],
             [
              0.1111111111111111,
              "#46039f"
             ],
             [
              0.2222222222222222,
              "#7201a8"
             ],
             [
              0.3333333333333333,
              "#9c179e"
             ],
             [
              0.4444444444444444,
              "#bd3786"
             ],
             [
              0.5555555555555556,
              "#d8576b"
             ],
             [
              0.6666666666666666,
              "#ed7953"
             ],
             [
              0.7777777777777778,
              "#fb9f3a"
             ],
             [
              0.8888888888888888,
              "#fdca26"
             ],
             [
              1,
              "#f0f921"
             ]
            ],
            "type": "histogram2dcontour"
           }
          ],
          "mesh3d": [
           {
            "colorbar": {
             "outlinewidth": 0,
             "ticks": ""
            },
            "type": "mesh3d"
           }
          ],
          "parcoords": [
           {
            "line": {
             "colorbar": {
              "outlinewidth": 0,
              "ticks": ""
             }
            },
            "type": "parcoords"
           }
          ],
          "scatter": [
           {
            "marker": {
             "colorbar": {
              "outlinewidth": 0,
              "ticks": ""
             }
            },
            "type": "scatter"
           }
          ],
          "scatter3d": [
           {
            "line": {
             "colorbar": {
              "outlinewidth": 0,
              "ticks": ""
             }
            },
            "marker": {
             "colorbar": {
              "outlinewidth": 0,
              "ticks": ""
             }
            },
            "type": "scatter3d"
           }
          ],
          "scattercarpet": [
           {
            "marker": {
             "colorbar": {
              "outlinewidth": 0,
              "ticks": ""
             }
            },
            "type": "scattercarpet"
           }
          ],
          "scattergeo": [
           {
            "marker": {
             "colorbar": {
              "outlinewidth": 0,
              "ticks": ""
             }
            },
            "type": "scattergeo"
           }
          ],
          "scattergl": [
           {
            "marker": {
             "colorbar": {
              "outlinewidth": 0,
              "ticks": ""
             }
            },
            "type": "scattergl"
           }
          ],
          "scattermapbox": [
           {
            "marker": {
             "colorbar": {
              "outlinewidth": 0,
              "ticks": ""
             }
            },
            "type": "scattermapbox"
           }
          ],
          "scatterpolar": [
           {
            "marker": {
             "colorbar": {
              "outlinewidth": 0,
              "ticks": ""
             }
            },
            "type": "scatterpolar"
           }
          ],
          "scatterpolargl": [
           {
            "marker": {
             "colorbar": {
              "outlinewidth": 0,
              "ticks": ""
             }
            },
            "type": "scatterpolargl"
           }
          ],
          "scatterternary": [
           {
            "marker": {
             "colorbar": {
              "outlinewidth": 0,
              "ticks": ""
             }
            },
            "type": "scatterternary"
           }
          ],
          "surface": [
           {
            "colorbar": {
             "outlinewidth": 0,
             "ticks": ""
            },
            "colorscale": [
             [
              0,
              "#0d0887"
             ],
             [
              0.1111111111111111,
              "#46039f"
             ],
             [
              0.2222222222222222,
              "#7201a8"
             ],
             [
              0.3333333333333333,
              "#9c179e"
             ],
             [
              0.4444444444444444,
              "#bd3786"
             ],
             [
              0.5555555555555556,
              "#d8576b"
             ],
             [
              0.6666666666666666,
              "#ed7953"
             ],
             [
              0.7777777777777778,
              "#fb9f3a"
             ],
             [
              0.8888888888888888,
              "#fdca26"
             ],
             [
              1,
              "#f0f921"
             ]
            ],
            "type": "surface"
           }
          ],
          "table": [
           {
            "cells": {
             "fill": {
              "color": "#EBF0F8"
             },
             "line": {
              "color": "white"
             }
            },
            "header": {
             "fill": {
              "color": "#C8D4E3"
             },
             "line": {
              "color": "white"
             }
            },
            "type": "table"
           }
          ]
         },
         "layout": {
          "annotationdefaults": {
           "arrowcolor": "#2a3f5f",
           "arrowhead": 0,
           "arrowwidth": 1
          },
          "colorscale": {
           "diverging": [
            [
             0,
             "#8e0152"
            ],
            [
             0.1,
             "#c51b7d"
            ],
            [
             0.2,
             "#de77ae"
            ],
            [
             0.3,
             "#f1b6da"
            ],
            [
             0.4,
             "#fde0ef"
            ],
            [
             0.5,
             "#f7f7f7"
            ],
            [
             0.6,
             "#e6f5d0"
            ],
            [
             0.7,
             "#b8e186"
            ],
            [
             0.8,
             "#7fbc41"
            ],
            [
             0.9,
             "#4d9221"
            ],
            [
             1,
             "#276419"
            ]
           ],
           "sequential": [
            [
             0,
             "#0d0887"
            ],
            [
             0.1111111111111111,
             "#46039f"
            ],
            [
             0.2222222222222222,
             "#7201a8"
            ],
            [
             0.3333333333333333,
             "#9c179e"
            ],
            [
             0.4444444444444444,
             "#bd3786"
            ],
            [
             0.5555555555555556,
             "#d8576b"
            ],
            [
             0.6666666666666666,
             "#ed7953"
            ],
            [
             0.7777777777777778,
             "#fb9f3a"
            ],
            [
             0.8888888888888888,
             "#fdca26"
            ],
            [
             1,
             "#f0f921"
            ]
           ],
           "sequentialminus": [
            [
             0,
             "#0d0887"
            ],
            [
             0.1111111111111111,
             "#46039f"
            ],
            [
             0.2222222222222222,
             "#7201a8"
            ],
            [
             0.3333333333333333,
             "#9c179e"
            ],
            [
             0.4444444444444444,
             "#bd3786"
            ],
            [
             0.5555555555555556,
             "#d8576b"
            ],
            [
             0.6666666666666666,
             "#ed7953"
            ],
            [
             0.7777777777777778,
             "#fb9f3a"
            ],
            [
             0.8888888888888888,
             "#fdca26"
            ],
            [
             1,
             "#f0f921"
            ]
           ]
          },
          "colorway": [
           "#636efa",
           "#EF553B",
           "#00cc96",
           "#ab63fa",
           "#FFA15A",
           "#19d3f3",
           "#FF6692",
           "#B6E880",
           "#FF97FF",
           "#FECB52"
          ],
          "font": {
           "color": "#2a3f5f"
          },
          "geo": {
           "bgcolor": "white",
           "lakecolor": "white",
           "landcolor": "#E5ECF6",
           "showlakes": true,
           "showland": true,
           "subunitcolor": "white"
          },
          "hoverlabel": {
           "align": "left"
          },
          "hovermode": "closest",
          "mapbox": {
           "style": "light"
          },
          "paper_bgcolor": "white",
          "plot_bgcolor": "#E5ECF6",
          "polar": {
           "angularaxis": {
            "gridcolor": "white",
            "linecolor": "white",
            "ticks": ""
           },
           "bgcolor": "#E5ECF6",
           "radialaxis": {
            "gridcolor": "white",
            "linecolor": "white",
            "ticks": ""
           }
          },
          "scene": {
           "xaxis": {
            "backgroundcolor": "#E5ECF6",
            "gridcolor": "white",
            "gridwidth": 2,
            "linecolor": "white",
            "showbackground": true,
            "ticks": "",
            "zerolinecolor": "white"
           },
           "yaxis": {
            "backgroundcolor": "#E5ECF6",
            "gridcolor": "white",
            "gridwidth": 2,
            "linecolor": "white",
            "showbackground": true,
            "ticks": "",
            "zerolinecolor": "white"
           },
           "zaxis": {
            "backgroundcolor": "#E5ECF6",
            "gridcolor": "white",
            "gridwidth": 2,
            "linecolor": "white",
            "showbackground": true,
            "ticks": "",
            "zerolinecolor": "white"
           }
          },
          "shapedefaults": {
           "line": {
            "color": "#2a3f5f"
           }
          },
          "ternary": {
           "aaxis": {
            "gridcolor": "white",
            "linecolor": "white",
            "ticks": ""
           },
           "baxis": {
            "gridcolor": "white",
            "linecolor": "white",
            "ticks": ""
           },
           "bgcolor": "#E5ECF6",
           "caxis": {
            "gridcolor": "white",
            "linecolor": "white",
            "ticks": ""
           }
          },
          "title": {
           "x": 0.05
          },
          "xaxis": {
           "automargin": true,
           "gridcolor": "white",
           "linecolor": "white",
           "ticks": "",
           "zerolinecolor": "white",
           "zerolinewidth": 2
          },
          "yaxis": {
           "automargin": true,
           "gridcolor": "white",
           "linecolor": "white",
           "ticks": "",
           "zerolinecolor": "white",
           "zerolinewidth": 2
          }
         }
        },
        "xaxis": {
         "anchor": "y",
         "domain": [
          0,
          0.98
         ],
         "title": {
          "text": "Continent"
         }
        },
        "yaxis": {
         "anchor": "x",
         "domain": [
          0,
          1
         ],
         "title": {
          "text": "Country"
         }
        }
       }
      },
      "text/html": [
       "<div>\n",
       "        \n",
       "        \n",
       "            <div id=\"59b38954-df6b-4bb3-98dc-1189d54ebe5d\" class=\"plotly-graph-div\" style=\"height:600px; width:100%;\"></div>\n",
       "            <script type=\"text/javascript\">\n",
       "                require([\"plotly\"], function(Plotly) {\n",
       "                    window.PLOTLYENV=window.PLOTLYENV || {};\n",
       "                    \n",
       "                if (document.getElementById(\"59b38954-df6b-4bb3-98dc-1189d54ebe5d\")) {\n",
       "                    Plotly.newPlot(\n",
       "                        '59b38954-df6b-4bb3-98dc-1189d54ebe5d',\n",
       "                        [{\"alignmentgroup\": \"True\", \"hoverlabel\": {\"namelength\": 0}, \"hovertemplate\": \"Sex =M<br>Continent=%{x}<br>Country=%{y}\", \"legendgroup\": \"Sex =M\", \"marker\": {\"color\": \"#636efa\"}, \"name\": \"Sex =M\", \"offsetgroup\": \"Sex =M\", \"orientation\": \"v\", \"showlegend\": true, \"textposition\": \"auto\", \"type\": \"bar\", \"x\": [\"Asia\", \"Oceany\", \"Asia\", \"Asia\", \"Oceany\", \"Asia\", \"America\", \"Europe\", \"Africa\", \"Oceany\", \"Oceany\", \"Oceany\", \"Africa\", \"Oceany\", \"Asia\", \"Oceany\", \"Africa\", \"Oceany\", \"America\", \"Oceany\", \"Oceany\", \"Africa\", \"America\", \"America\", \"America\", \"America\", \"Asia\", \"Oceany\", \"America\", \"Oceany\", \"Africa\", \"America\", \"America\", \"America\", \"America\", \"Africa\", \"Oceany\", \"Africa\", \"Oceany\", \"Africa\", \"Oceany\", \"Oceany\", \"America\", \"Africa\", \"Oceany\", \"Oceany\", \"Africa\", \"Asia\", \"Asia\", \"America\", \"America\", \"America\", \"Asia\", \"Africa\", \"Oceany\", \"Africa\", \"Oceany\", \"America\", \"America\", \"Africa\", \"Asia\", \"Oceany\", \"Asia\", \"Asia\", \"America\", \"Africa\", \"Africa\", \"Oceany\", \"America\", \"America\", \"America\", \"Asia\", \"Africa\", \"Africa\", \"Africa\", \"Africa\", \"Asia\", \"America\", \"America\", \"Africa\", \"America\", \"Oceany\", \"Africa\", \"Asia\", \"Asia\", \"America\", \"America\", \"America\", \"Asia\", \"America\", \"America\", \"America\", \"Oceany\", \"Asia\", \"Asia\", \"Asia\", \"Oceany\", \"America\", \"Oceany\", \"Africa\", \"Oceany\", \"America\", \"America\", \"America\", \"Europe\", \"America\", \"America\", \"America\", \"America\", \"Africa\", \"Africa\", \"America\", \"America\", \"Asia\", \"Oceany\", \"Asia\", \"Africa\", \"Africa\", \"Oceany\", \"Oceany\", \"Oceany\", \"America\", \"Oceany\", \"Africa\", \"America\", \"Africa\", \"Africa\", \"America\", \"America\", \"Africa\", \"Oceany\", \"Africa\", \"America\", \"Asia\", \"Africa\", \"America\", \"Oceany\", \"Africa\", \"Oceany\", \"America\", \"America\", \"America\", \"Oceany\", \"Oceany\", \"America\", \"Asia\", \"America\", \"Asia\", \"America\", \"America\", \"America\", \"Oceany\", \"Africa\", \"Asia\", \"America\", \"Asia\", \"Oceany\", \"Oceany\", \"Oceany\", \"Oceany\", \"Asia\", \"Africa\", \"America\", \"America\", \"Africa\", \"Africa\", \"Africa\", \"Asia\", \"America\", \"Asia\", \"America\", \"Africa\", \"Oceany\", \"America\", \"America\", \"America\", \"Oceany\", \"Africa\", \"America\", \"Oceany\", \"America\", \"Africa\", \"Africa\", \"Oceany\", \"America\", \"America\", \"America\", \"Africa\", \"Africa\", \"Asia\", \"Oceany\", \"America\", \"Asia\", \"Asia\", \"Asia\", \"Oceany\", \"Asia\", \"America\", \"Africa\", \"America\", \"Asia\", \"America\", \"America\", \"Oceany\", \"America\", \"America\", \"Asia\", \"Asia\", \"Asia\", \"Africa\", \"America\", \"America\", \"America\", \"America\", \"America\", \"America\", \"Africa\", \"Africa\", \"America\", \"America\", \"Oceany\", \"Africa\", \"Africa\", \"America\", \"Asia\", \"America\", \"Asia\", \"Oceany\", \"Asia\", \"America\", \"Oceany\", \"America\", \"America\", \"America\", \"America\", \"America\", \"America\", \"America\", \"Asia\", \"America\", \"Asia\", \"America\", \"Asia\", \"Oceany\", \"Asia\", \"Asia\", \"America\", \"Oceany\", \"America\", \"Oceany\", \"Africa\", \"America\", \"America\", \"America\", \"America\", \"Oceany\", \"Europe\", \"America\", \"America\", \"America\", \"Oceany\", \"Oceany\", \"America\", \"America\", \"America\", \"Oceany\", \"Oceany\", \"Africa\", \"America\", \"Africa\", \"Europe\", \"Africa\", \"Asia\", \"America\"], \"xaxis\": \"x\", \"y\": [\"NEW CALEDONIA\", \"AUSTRALIA\", \"Fiji\", \"ARUBA\", \"AUSTRALIA\", \"NEW CALEDONIA\", \"REUNION\", \"ITALY\", \"EGYPT\", \"AUSTRALIA\", \"AUSTRALIA\", \"AUSTRALIA\", \"MAURITIUS\", \"AUSTRALIA\", \"BAHAMAS\", \"AUSTRALIA\", \"SOUTH AFRICA\", \"AUSTRALIA\", \"USA\", \"AUSTRALIA\", \"AUSTRALIA\", \"SOUTH AFRICA\", \"JAMAICA\", \"BRAZIL\", \"USA\", \"REUNION\", \"GUAM\", \"AUSTRALIA\", \"JAMAICA\", \"NEW ZEALAND\", \"SOUTH AFRICA\", \"MEXICO\", \"USA\", \"BRAZIL\", \"REUNION\", \"TRINIDAD & TOBAGO\", \"AUSTRALIA\", \"SOUTH AFRICA\", \"AUSTRALIA\", \"SOUTH AFRICA\", \"AUSTRALIA\", \"AUSTRALIA\", \"REUNION\", \"KENYA\", \"AUSTRALIA\", \"AUSTRALIA\", \"SOUTH AFRICA\", \"SEYCHELLES\", \"SEYCHELLES\", \"BRAZIL\", \"COSTA RICA\", \"REUNION\", \"NEW CALEDONIA\", \"SOUTH AFRICA\", \"AUSTRALIA\", \"SOUTH AFRICA\", \"AUSTRALIA\", \"DOMINICAN REPUBLIC\", \"USA\", \"SOUTH AFRICA\", \"BAHAMAS\", \"AUSTRALIA\", \"FIJI\", \"GUAM\", \"USA\", \"SOUTH AFRICA\", \"SOUTH AFRICA\", \"NEW ZEALAND\", \"BRAZIL\", \"USA\", \"BRAZIL\", \"NEVIS\", \"SOUTH AFRICA\", \"KENYA\", \"SOUTH AFRICA\", \"SOUTH AFRICA\", \"NEW CALEDONIA\", \"USA\", \"BRAZIL\", \"SOUTH AFRICA\", \"BRAZIL\", \"AUSTRALIA\", \"MOZAMBIQUE\", \"TAIWAN\", \"PHILIPPINES\", \"USA\", \"USA\", \"MEXICO\", \"FIJI\", \"MEXICO\", \"USA\", \"MEXICO\", \"AUSTRALIA\", \"BAHAMAS\", \"BRITISH VIRGIN ISLANDS\", \"PHILIPPINES\", \"AUSTRALIA\", \"COSTA RICA\", \"AUSTRALIA\", \"SOUTH AFRICA\", \"AUSTRALIA\", \"BRAZIL\", \"BRAZIL\", \"BELIZE\", \"ITALY\", \"REUNION\", \"BRAZIL\", \"BRAZIL\", \"USA\", \"Sierra Leone\", \"SOUTH AFRICA\", \"USA\", \"USA\", \"THAILAND\", \"AUSTRALIA\", \"Seychelles\", \"LIBERIA\", \"SOUTH AFRICA\", \"AUSTRALIA\", \"AUSTRALIA\", \"AUSTRALIA\", \"USA\", \"AUSTRALIA\", \"SOUTH AFRICA\", \"BRAZIL\", \" TONGA\", \" TONGA\", \"USA\", \"BRAZIL\", \"EGYPT\", \"NEW ZEALAND\", \"SOUTH AFRICA\", \"USA\", \"FIJI\", \"SOUTH AFRICA\", \"BRAZIL\", \"AUSTRALIA\", \"SOUTH AFRICA\", \"AUSTRALIA\", \"BRAZIL\", \"BRAZIL\", \"USA\", \"AUSTRALIA\", \"AUSTRALIA\", \"BRAZIL\", \"NEW CALEDONIA\", \"TURKS & CAICOS\", \"FIJI\", \"USA\", \"USA\", \"USA\", \"AUSTRALIA\", \"MADAGASCAR\", \"FIJI\", \"BRAZIL\", \"FIJI\", \"AUSTRALIA\", \"AUSTRALIA\", \"AUSTRALIA\", \"AUSTRALIA\", \"OKINAWA\", \"TANZANIA\", \"USA\", \"USA\", \"PAPUA NEW GUINEA\", \"TANZANIA\", \"PAPUA NEW GUINEA\", \"NEW CALEDONIA\", \"REUNION\", \"THAILAND\", \"USA\", \"SOUTH AFRICA\", \"AUSTRALIA\", \"REUNION\", \"USA\", \"BRAZIL\", \"AUSTRALIA\", \"SOUTH AFRICA\", \"BRAZIL\", \"AUSTRALIA\", \"REUNION\", \"SOUTH AFRICA\", \"SOUTH AFRICA\", \"AUSTRALIA\", \"BRAZIL\", \"MEXICO\", \"MEXICO\", \"EGYPT\", \"SOUTH AFRICA\", \"OKINAWA\", \"AUSTRALIA\", \"REUNION\", \"NEW CALEDONIA\", \"OKINAWA\", \"OKINAWA\", \"AUSTRALIA\", \"SOUTH KOREA\", \"BRAZIL\", \"PAPUA NEW GUINEA\", \"REUNION\", \"FIJI\", \"REUNION\", \"USA\", \"AUSTRALIA\", \"USA\", \"BRAZIL\", \"HONG KONG\", \"FIJI\", \"JAPAN\", \"SOUTH AFRICA\", \"USA\", \"USA\", \"BRAZIL\", \"USA\", \"BRAZIL\", \"REUNION\", \"SOUTH AFRICA\", \"SOUTH AFRICA\", \"USA\", \"USA\", \"AUSTRALIA\", \"SOMALIA\", \"SOMALIA\", \"EL SALVADOR\", \"NEW CALEDONIA\", \"BRAZIL\", \"HONG KONG\", \"AUSTRALIA\", \"HONG KONG\", \"USA\", \"AUSTRALIA\", \"BRAZIL\", \"USA\", \"USA\", \"BRAZIL\", \"REUNION\", \"USA\", \"REUNION\", \"JAPAN\", \"USA\", \"FIJI\", \"USA\", \"BAHAMAS\", \"AUSTRALIA\", \"HONG KONG\", \"HONG KONG\", \"USA\", \"AUSTRALIA\", \"USA\", \"AUSTRALIA\", \"SOUTH AFRICA\", \"USA\", \"USA\", \"USA\", \"REUNION\", \"AUSTRALIA\", \"ITALY\", \"USA\", \"USA\", \"CHILE\", \"AUSTRALIA\", \"AUSTRALIA\", \"USA\", \"REUNION\", \"USA\", \"AUSTRALIA\", \"AUSTRALIA\", \"SOUTH AFRICA\", \"USA\", \"VANUATU\", \"MONTENEGRO\", \"SOUTH AFRICA\", \"SOUTH KOREA\", \"USA\"], \"yaxis\": \"y\"}, {\"alignmentgroup\": \"True\", \"hoverlabel\": {\"namelength\": 0}, \"hovertemplate\": \"Sex =F<br>Continent=%{x}<br>Country=%{y}\", \"legendgroup\": \"Sex =F\", \"marker\": {\"color\": \"#EF553B\"}, \"name\": \"Sex =F\", \"offsetgroup\": \"Sex =F\", \"orientation\": \"v\", \"showlegend\": true, \"textposition\": \"auto\", \"type\": \"bar\", \"x\": [\"Oceany\", \"Asia\", \"Africa\", \"America\", \"America\", \"Oceany\", \"America\", \"America\", \"America\", \"Oceany\", \"Africa\", \"Africa\", \"Asia\", \"America\", \"Asia\", \"Oceany\", \"America\", \"Africa\", \"Africa\", \"America\", \"America\", \"Asia\", \"Oceany\", \"America\", \"Africa\", \"Asia\", \"Asia\", \"America\", \"America\", \"Oceany\", \"Asia\", \"Africa\", \"America\", \"Asia\", \"Africa\", \"America\", \"Asia\", \"Africa\", \"Oceany\"], \"xaxis\": \"x\", \"y\": [\"AUSTRALIA\", \"NEW CALEDONIA\", \"MOZAMBIQUE\", \"USA\", \"REUNION\", \"AUSTRALIA\", \"USA\", \"BRAZIL\", \"REUNION\", \"AUSTRALIA\", \"EGYPT\", \"EGYPT\", \"NEW CALEDONIA\", \"USA\", \"TONGA\", \"AUSTRALIA\", \"USA\", \"VANUATU\", \"SOUTH AFRICA\", \"USA\", \"USA\", \"MALAYSIA\", \"NEW ZEALAND\", \"USA\", \"MOZAMBIQUE\", \"HONG KONG\", \"SOUTH KOREA\", \"USA\", \"MEXICO\", \"AUSTRALIA\", \"HONG KONG\", \"SOMALIA\", \"USA\", \"HONG KONG\", \"SOUTH AFRICA\", \"USA\", \"SOUTH KOREA\", \"SOUTH AFRICA\", \"AUSTRALIA\"], \"yaxis\": \"y\"}],\n",
       "                        {\"barmode\": \"relative\", \"height\": 600, \"legend\": {\"tracegroupgap\": 0}, \"margin\": {\"t\": 60}, \"template\": {\"data\": {\"bar\": [{\"error_x\": {\"color\": \"#2a3f5f\"}, \"error_y\": {\"color\": \"#2a3f5f\"}, \"marker\": {\"line\": {\"color\": \"#E5ECF6\", \"width\": 0.5}}, \"type\": \"bar\"}], \"barpolar\": [{\"marker\": {\"line\": {\"color\": \"#E5ECF6\", \"width\": 0.5}}, \"type\": \"barpolar\"}], \"carpet\": [{\"aaxis\": {\"endlinecolor\": \"#2a3f5f\", \"gridcolor\": \"white\", \"linecolor\": \"white\", \"minorgridcolor\": \"white\", \"startlinecolor\": \"#2a3f5f\"}, \"baxis\": {\"endlinecolor\": \"#2a3f5f\", \"gridcolor\": \"white\", \"linecolor\": \"white\", \"minorgridcolor\": \"white\", \"startlinecolor\": \"#2a3f5f\"}, \"type\": \"carpet\"}], \"choropleth\": [{\"colorbar\": {\"outlinewidth\": 0, \"ticks\": \"\"}, \"type\": \"choropleth\"}], \"contour\": [{\"colorbar\": {\"outlinewidth\": 0, \"ticks\": \"\"}, \"colorscale\": [[0.0, \"#0d0887\"], [0.1111111111111111, \"#46039f\"], [0.2222222222222222, \"#7201a8\"], [0.3333333333333333, \"#9c179e\"], [0.4444444444444444, \"#bd3786\"], [0.5555555555555556, \"#d8576b\"], [0.6666666666666666, \"#ed7953\"], [0.7777777777777778, \"#fb9f3a\"], [0.8888888888888888, \"#fdca26\"], [1.0, \"#f0f921\"]], \"type\": \"contour\"}], \"contourcarpet\": [{\"colorbar\": {\"outlinewidth\": 0, \"ticks\": \"\"}, \"type\": \"contourcarpet\"}], \"heatmap\": [{\"colorbar\": {\"outlinewidth\": 0, \"ticks\": \"\"}, \"colorscale\": [[0.0, \"#0d0887\"], [0.1111111111111111, \"#46039f\"], [0.2222222222222222, \"#7201a8\"], [0.3333333333333333, \"#9c179e\"], [0.4444444444444444, \"#bd3786\"], [0.5555555555555556, \"#d8576b\"], [0.6666666666666666, \"#ed7953\"], [0.7777777777777778, \"#fb9f3a\"], [0.8888888888888888, \"#fdca26\"], [1.0, \"#f0f921\"]], \"type\": \"heatmap\"}], \"heatmapgl\": [{\"colorbar\": {\"outlinewidth\": 0, \"ticks\": \"\"}, \"colorscale\": [[0.0, \"#0d0887\"], [0.1111111111111111, \"#46039f\"], [0.2222222222222222, \"#7201a8\"], [0.3333333333333333, \"#9c179e\"], [0.4444444444444444, \"#bd3786\"], [0.5555555555555556, \"#d8576b\"], [0.6666666666666666, \"#ed7953\"], [0.7777777777777778, \"#fb9f3a\"], [0.8888888888888888, \"#fdca26\"], [1.0, \"#f0f921\"]], \"type\": \"heatmapgl\"}], \"histogram\": [{\"marker\": {\"colorbar\": {\"outlinewidth\": 0, \"ticks\": \"\"}}, \"type\": \"histogram\"}], \"histogram2d\": [{\"colorbar\": {\"outlinewidth\": 0, \"ticks\": \"\"}, \"colorscale\": [[0.0, \"#0d0887\"], [0.1111111111111111, \"#46039f\"], [0.2222222222222222, \"#7201a8\"], [0.3333333333333333, \"#9c179e\"], [0.4444444444444444, \"#bd3786\"], [0.5555555555555556, \"#d8576b\"], [0.6666666666666666, \"#ed7953\"], [0.7777777777777778, \"#fb9f3a\"], [0.8888888888888888, \"#fdca26\"], [1.0, \"#f0f921\"]], \"type\": \"histogram2d\"}], \"histogram2dcontour\": [{\"colorbar\": {\"outlinewidth\": 0, \"ticks\": \"\"}, \"colorscale\": [[0.0, \"#0d0887\"], [0.1111111111111111, \"#46039f\"], [0.2222222222222222, \"#7201a8\"], [0.3333333333333333, \"#9c179e\"], [0.4444444444444444, \"#bd3786\"], [0.5555555555555556, \"#d8576b\"], [0.6666666666666666, \"#ed7953\"], [0.7777777777777778, \"#fb9f3a\"], [0.8888888888888888, \"#fdca26\"], [1.0, \"#f0f921\"]], \"type\": \"histogram2dcontour\"}], \"mesh3d\": [{\"colorbar\": {\"outlinewidth\": 0, \"ticks\": \"\"}, \"type\": \"mesh3d\"}], \"parcoords\": [{\"line\": {\"colorbar\": {\"outlinewidth\": 0, \"ticks\": \"\"}}, \"type\": \"parcoords\"}], \"scatter\": [{\"marker\": {\"colorbar\": {\"outlinewidth\": 0, \"ticks\": \"\"}}, \"type\": \"scatter\"}], \"scatter3d\": [{\"line\": {\"colorbar\": {\"outlinewidth\": 0, \"ticks\": \"\"}}, \"marker\": {\"colorbar\": {\"outlinewidth\": 0, \"ticks\": \"\"}}, \"type\": \"scatter3d\"}], \"scattercarpet\": [{\"marker\": {\"colorbar\": {\"outlinewidth\": 0, \"ticks\": \"\"}}, \"type\": \"scattercarpet\"}], \"scattergeo\": [{\"marker\": {\"colorbar\": {\"outlinewidth\": 0, \"ticks\": \"\"}}, \"type\": \"scattergeo\"}], \"scattergl\": [{\"marker\": {\"colorbar\": {\"outlinewidth\": 0, \"ticks\": \"\"}}, \"type\": \"scattergl\"}], \"scattermapbox\": [{\"marker\": {\"colorbar\": {\"outlinewidth\": 0, \"ticks\": \"\"}}, \"type\": \"scattermapbox\"}], \"scatterpolar\": [{\"marker\": {\"colorbar\": {\"outlinewidth\": 0, \"ticks\": \"\"}}, \"type\": \"scatterpolar\"}], \"scatterpolargl\": [{\"marker\": {\"colorbar\": {\"outlinewidth\": 0, \"ticks\": \"\"}}, \"type\": \"scatterpolargl\"}], \"scatterternary\": [{\"marker\": {\"colorbar\": {\"outlinewidth\": 0, \"ticks\": \"\"}}, \"type\": \"scatterternary\"}], \"surface\": [{\"colorbar\": {\"outlinewidth\": 0, \"ticks\": \"\"}, \"colorscale\": [[0.0, \"#0d0887\"], [0.1111111111111111, \"#46039f\"], [0.2222222222222222, \"#7201a8\"], [0.3333333333333333, \"#9c179e\"], [0.4444444444444444, \"#bd3786\"], [0.5555555555555556, \"#d8576b\"], [0.6666666666666666, \"#ed7953\"], [0.7777777777777778, \"#fb9f3a\"], [0.8888888888888888, \"#fdca26\"], [1.0, \"#f0f921\"]], \"type\": \"surface\"}], \"table\": [{\"cells\": {\"fill\": {\"color\": \"#EBF0F8\"}, \"line\": {\"color\": \"white\"}}, \"header\": {\"fill\": {\"color\": \"#C8D4E3\"}, \"line\": {\"color\": \"white\"}}, \"type\": \"table\"}]}, \"layout\": {\"annotationdefaults\": {\"arrowcolor\": \"#2a3f5f\", \"arrowhead\": 0, \"arrowwidth\": 1}, \"colorscale\": {\"diverging\": [[0, \"#8e0152\"], [0.1, \"#c51b7d\"], [0.2, \"#de77ae\"], [0.3, \"#f1b6da\"], [0.4, \"#fde0ef\"], [0.5, \"#f7f7f7\"], [0.6, \"#e6f5d0\"], [0.7, \"#b8e186\"], [0.8, \"#7fbc41\"], [0.9, \"#4d9221\"], [1, \"#276419\"]], \"sequential\": [[0.0, \"#0d0887\"], [0.1111111111111111, \"#46039f\"], [0.2222222222222222, \"#7201a8\"], [0.3333333333333333, \"#9c179e\"], [0.4444444444444444, \"#bd3786\"], [0.5555555555555556, \"#d8576b\"], [0.6666666666666666, \"#ed7953\"], [0.7777777777777778, \"#fb9f3a\"], [0.8888888888888888, \"#fdca26\"], [1.0, \"#f0f921\"]], \"sequentialminus\": [[0.0, \"#0d0887\"], [0.1111111111111111, \"#46039f\"], [0.2222222222222222, \"#7201a8\"], [0.3333333333333333, \"#9c179e\"], [0.4444444444444444, \"#bd3786\"], [0.5555555555555556, \"#d8576b\"], [0.6666666666666666, \"#ed7953\"], [0.7777777777777778, \"#fb9f3a\"], [0.8888888888888888, \"#fdca26\"], [1.0, \"#f0f921\"]]}, \"colorway\": [\"#636efa\", \"#EF553B\", \"#00cc96\", \"#ab63fa\", \"#FFA15A\", \"#19d3f3\", \"#FF6692\", \"#B6E880\", \"#FF97FF\", \"#FECB52\"], \"font\": {\"color\": \"#2a3f5f\"}, \"geo\": {\"bgcolor\": \"white\", \"lakecolor\": \"white\", \"landcolor\": \"#E5ECF6\", \"showlakes\": true, \"showland\": true, \"subunitcolor\": \"white\"}, \"hoverlabel\": {\"align\": \"left\"}, \"hovermode\": \"closest\", \"mapbox\": {\"style\": \"light\"}, \"paper_bgcolor\": \"white\", \"plot_bgcolor\": \"#E5ECF6\", \"polar\": {\"angularaxis\": {\"gridcolor\": \"white\", \"linecolor\": \"white\", \"ticks\": \"\"}, \"bgcolor\": \"#E5ECF6\", \"radialaxis\": {\"gridcolor\": \"white\", \"linecolor\": \"white\", \"ticks\": \"\"}}, \"scene\": {\"xaxis\": {\"backgroundcolor\": \"#E5ECF6\", \"gridcolor\": \"white\", \"gridwidth\": 2, \"linecolor\": \"white\", \"showbackground\": true, \"ticks\": \"\", \"zerolinecolor\": \"white\"}, \"yaxis\": {\"backgroundcolor\": \"#E5ECF6\", \"gridcolor\": \"white\", \"gridwidth\": 2, \"linecolor\": \"white\", \"showbackground\": true, \"ticks\": \"\", \"zerolinecolor\": \"white\"}, \"zaxis\": {\"backgroundcolor\": \"#E5ECF6\", \"gridcolor\": \"white\", \"gridwidth\": 2, \"linecolor\": \"white\", \"showbackground\": true, \"ticks\": \"\", \"zerolinecolor\": \"white\"}}, \"shapedefaults\": {\"line\": {\"color\": \"#2a3f5f\"}}, \"ternary\": {\"aaxis\": {\"gridcolor\": \"white\", \"linecolor\": \"white\", \"ticks\": \"\"}, \"baxis\": {\"gridcolor\": \"white\", \"linecolor\": \"white\", \"ticks\": \"\"}, \"bgcolor\": \"#E5ECF6\", \"caxis\": {\"gridcolor\": \"white\", \"linecolor\": \"white\", \"ticks\": \"\"}}, \"title\": {\"x\": 0.05}, \"xaxis\": {\"automargin\": true, \"gridcolor\": \"white\", \"linecolor\": \"white\", \"ticks\": \"\", \"zerolinecolor\": \"white\", \"zerolinewidth\": 2}, \"yaxis\": {\"automargin\": true, \"gridcolor\": \"white\", \"linecolor\": \"white\", \"ticks\": \"\", \"zerolinecolor\": \"white\", \"zerolinewidth\": 2}}}, \"xaxis\": {\"anchor\": \"y\", \"domain\": [0.0, 0.98], \"title\": {\"text\": \"Continent\"}}, \"yaxis\": {\"anchor\": \"x\", \"domain\": [0.0, 1.0], \"title\": {\"text\": \"Country\"}}},\n",
       "                        {\"responsive\": true}\n",
       "                    ).then(function(){\n",
       "                            \n",
       "var gd = document.getElementById('59b38954-df6b-4bb3-98dc-1189d54ebe5d');\n",
       "var x = new MutationObserver(function (mutations, observer) {{\n",
       "        var display = window.getComputedStyle(gd).display;\n",
       "        if (!display || display === 'none') {{\n",
       "            console.log([gd, 'removed!']);\n",
       "            Plotly.purge(gd);\n",
       "            observer.disconnect();\n",
       "        }}\n",
       "}});\n",
       "\n",
       "// Listen for the removal of the full notebook cells\n",
       "var notebookContainer = gd.closest('#notebook-container');\n",
       "if (notebookContainer) {{\n",
       "    x.observe(notebookContainer, {childList: true});\n",
       "}}\n",
       "\n",
       "// Listen for the clearing of the current output cell\n",
       "var outputEl = gd.closest('.output');\n",
       "if (outputEl) {{\n",
       "    x.observe(outputEl, {childList: true});\n",
       "}}\n",
       "\n",
       "                        })\n",
       "                };\n",
       "                });\n",
       "            </script>\n",
       "        </div>"
      ]
     },
     "metadata": {},
     "output_type": "display_data"
    }
   ],
   "source": [
    "# Now  I want to display some graphics to ease the data visualization\n",
    "\n",
    "import plotly.express as px\n",
    "\n",
    "fig = px.bar(df, x='Continent', y='Country',color='Sex ')\n",
    "fig.show()"
   ]
  },
  {
   "cell_type": "code",
   "execution_count": null,
   "metadata": {},
   "outputs": [],
   "source": []
  }
 ],
 "metadata": {
  "kernelspec": {
   "display_name": "Python 3",
   "language": "python",
   "name": "python3"
  },
  "language_info": {
   "codemirror_mode": {
    "name": "ipython",
    "version": 3
   },
   "file_extension": ".py",
   "mimetype": "text/x-python",
   "name": "python",
   "nbconvert_exporter": "python",
   "pygments_lexer": "ipython3",
   "version": "3.7.5rc1"
  }
 },
 "nbformat": 4,
 "nbformat_minor": 2
}
